{
  "nbformat": 4,
  "nbformat_minor": 0,
  "metadata": {
    "colab": {
      "provenance": []
    },
    "kernelspec": {
      "name": "python3",
      "display_name": "Python 3"
    },
    "language_info": {
      "name": "python"
    }
  },
  "cells": [
    {
      "cell_type": "code",
      "execution_count": 2,
      "metadata": {
        "colab": {
          "base_uri": "https://localhost:8080/"
        },
        "id": "F7K6pxyNCM1q",
        "outputId": "4e4f4a2b-42e2-4033-a75a-72aa9714b372"
      },
      "outputs": [
        {
          "output_type": "stream",
          "name": "stdout",
          "text": [
            "Movies similar to 'Movie 1':\n",
            "2    Movie 3\n",
            "3    Movie 4\n",
            "1    Movie 2\n",
            "Name: title, dtype: object\n"
          ]
        }
      ],
      "source": [
        "import pandas as pd\n",
        "from sklearn.feature_extraction.text import TfidfVectorizer\n",
        "from sklearn.metrics.pairwise import cosine_similarity\n",
        "\n",
        "# Sample dataset (movie_id, title, genre)\n",
        "movies = {\n",
        "    'movie_id': ['A', 'B', 'C', 'D', 'E'],\n",
        "    'title': ['Movie 1', 'Movie 2', 'Movie 3', 'Movie 4', 'Movie 5'],\n",
        "    'genre': ['Action, Adventure', 'Action, Sci-Fi', 'Adventure, Fantasy', 'Drama, Action', 'Sci-Fi, Drama']\n",
        "}\n",
        "\n",
        "# Convert to DataFrame\n",
        "df_movies = pd.DataFrame(movies)\n",
        "\n",
        "# Vectorize the movie genres using TfidfVectorizer\n",
        "tfidf = TfidfVectorizer(stop_words='english')\n",
        "tfidf_matrix = tfidf.fit_transform(df_movies['genre'])\n",
        "\n",
        "# Compute cosine similarity between movies based on their genres\n",
        "cosine_sim = cosine_similarity(tfidf_matrix, tfidf_matrix)\n",
        "\n",
        "# Function to recommend movies based on a movie's title\n",
        "def recommend_movie(title, cosine_sim=cosine_sim):\n",
        "    idx = df_movies.index[df_movies['title'] == title].tolist()[0]  # Get index of the movie\n",
        "    sim_scores = list(enumerate(cosine_sim[idx]))  # Get similarity scores for all movies\n",
        "    sim_scores = sorted(sim_scores, key=lambda x: x[1], reverse=True)  # Sort by similarity\n",
        "    sim_scores = sim_scores[1:4]  # Get top 3 similar movies (exclude the movie itself)\n",
        "    movie_indices = [i[0] for i in sim_scores]\n",
        "    return df_movies['title'].iloc[movie_indices]\n",
        "\n",
        "# Recommend movies similar to 'Movie 1'\n",
        "recommended_movies = recommend_movie('Movie 1')\n",
        "print(\"Movies similar to 'Movie 1':\")\n",
        "print(recommended_movies)\n"
      ]
    }
  ]
}